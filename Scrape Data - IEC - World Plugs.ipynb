{
 "cells": [
  {
   "cell_type": "markdown",
   "metadata": {},
   "source": [
    "# Scrape Data - IEC World Plugs\n",
    "\n",
    "In this notebook, we build a list of plug types by country based on the [International\n",
    "Electrotechnical\n",
    "Commission's website](http://www.iec.ch/worldplugs/list_bylocation.htm).\n",
    "\n",
    "I thought this would be a fun DataSet to use along with Geospatial data so I made sure to incude ISO Country Codes for easy mapping later on. This repository however, will only be dedicated to building a useable list of plug types.\n",
    "\n",
    "The [worldstandards.eu](http://www.worldstandards.eu/electricity/plugs-and-sockets/) has some good pictures of these plug and socket types.\n",
    "\n",
    "Here's a link to the CSV World Plugs Data: https://raw.githubusercontent.com/benjiao/world-plugs/master/world-plugs.csv"
   ]
  },
  {
   "cell_type": "code",
   "execution_count": 1,
   "metadata": {
    "collapsed": true
   },
   "outputs": [],
   "source": [
    "import requests\n",
    "response = requests.get(\"http://www.iec.ch/worldplugs/list_bylocation.htm\")"
   ]
  },
  {
   "cell_type": "markdown",
   "metadata": {},
   "source": [
    "### Parse response\n",
    "\n",
    "Our HTTP request gives us HTML source code for that page, so we'll need to parse through that to get the data we need. For this purpose, we use BeautifulSoup."
   ]
  },
  {
   "cell_type": "code",
   "execution_count": 2,
   "metadata": {},
   "outputs": [
    {
     "data": {
      "text/plain": [
       "1"
      ]
     },
     "execution_count": 2,
     "metadata": {},
     "output_type": "execute_result"
    }
   ],
   "source": [
    "from bs4 import BeautifulSoup\n",
    "\n",
    "soup = BeautifulSoup(response.content, 'html.parser')\n",
    "tbodies = soup.find_all('tbody')\n",
    "\n",
    "len(tbodies)"
   ]
  },
  {
   "cell_type": "markdown",
   "metadata": {},
   "source": [
    "Great! There is only one tbody on the page. That is probably all we need. Now we check all of the rows from that table:"
   ]
  },
  {
   "cell_type": "code",
   "execution_count": 3,
   "metadata": {},
   "outputs": [
    {
     "data": {
      "text/plain": [
       "504"
      ]
     },
     "execution_count": 3,
     "metadata": {},
     "output_type": "execute_result"
    }
   ],
   "source": [
    "rows = tbodies[0].find_all('tr')\n",
    "len(rows)"
   ]
  },
  {
   "cell_type": "markdown",
   "metadata": {},
   "source": [
    "### Inspect data\n",
    "\n",
    "We can also take a peek at some items, so we have an idea of how each row is probably formatted:"
   ]
  },
  {
   "cell_type": "code",
   "execution_count": 4,
   "metadata": {},
   "outputs": [
    {
     "data": {
      "text/plain": [
       "<tr>\n",
       "<td><div class=\"flagimg\" style=\"background-image:url(/resources/isoflags/af.png)\">\n",
       "<div class=\"flagtext\">\n",
       "<p>Afghanistan</p>\n",
       "</div>\n",
       "</div></td>\n",
       "<td><div class=\"plugimg\" style=\"background-image:url(/worldplugs/img/btn/c-btn-set.png)\">\n",
       "<div class=\"plugtext\">\n",
       "<p><a href=\"/worldplugs/typeC.htm\" title=\"Plug Type C: Click to find out more\">Type C</a></p>\n",
       "</div>\n",
       "</div></td>\n",
       "<td>220 V</td>\n",
       "<td>50 Hz</td>\n",
       "</tr>"
      ]
     },
     "execution_count": 4,
     "metadata": {},
     "output_type": "execute_result"
    }
   ],
   "source": [
    "rows[0]"
   ]
  },
  {
   "cell_type": "code",
   "execution_count": 5,
   "metadata": {},
   "outputs": [
    {
     "data": {
      "text/plain": [
       "<tr>\n",
       "<td><div class=\"flagimg\" style=\"background-image:url(/resources/isoflags/af.png)\">\n",
       "<div class=\"flagtext\">\n",
       "<p>Afghanistan</p>\n",
       "</div>\n",
       "</div></td>\n",
       "<td><div class=\"plugimg\" style=\"background-image:url(/worldplugs/img/btn/f-btn-set.png)\">\n",
       "<div class=\"plugtext\">\n",
       "<p><a href=\"/worldplugs/typeF.htm\" title=\"Plug Type F: Click to find out more\">Type F</a></p>\n",
       "</div>\n",
       "</div></td>\n",
       "<td>220 V</td>\n",
       "<td>50 Hz</td>\n",
       "</tr>"
      ]
     },
     "execution_count": 5,
     "metadata": {},
     "output_type": "execute_result"
    }
   ],
   "source": [
    "rows[1]"
   ]
  },
  {
   "cell_type": "markdown",
   "metadata": {},
   "source": [
    "The data looks great because we already have 1 row per plug-type, per country. One value per column, per row -- we won't have to normalize our data"
   ]
  },
  {
   "cell_type": "markdown",
   "metadata": {},
   "source": [
    "### Build list of Python dictionaries\n",
    "\n",
    "In this part, we create a function for building Python dictionary objects out of the HTML formatted file."
   ]
  },
  {
   "cell_type": "code",
   "execution_count": 6,
   "metadata": {},
   "outputs": [
    {
     "data": {
      "text/plain": [
       "{'frequency': '50 Hz',\n",
       " 'name': 'Afghanistan',\n",
       " 'plug_type': 'Type C',\n",
       " 'voltage': '220 V'}"
      ]
     },
     "execution_count": 6,
     "metadata": {},
     "output_type": "execute_result"
    }
   ],
   "source": [
    "def parse_row(row):\n",
    "    columns = row.find_all(\"td\")\n",
    "    return {\n",
    "        'name': columns[0].find('p').string,\n",
    "        'plug_type': columns[1].find('a').string,\n",
    "        'voltage': columns[2].string,\n",
    "        'frequency': columns[3].string\n",
    "    }\n",
    "\n",
    "parse_row(rows[0])"
   ]
  },
  {
   "cell_type": "markdown",
   "metadata": {},
   "source": [
    "Awesome! Now we can run all of the rows through the function..."
   ]
  },
  {
   "cell_type": "code",
   "execution_count": 7,
   "metadata": {
    "collapsed": true
   },
   "outputs": [],
   "source": [
    "rows_dict = [parse_row(row) for row in rows]"
   ]
  },
  {
   "cell_type": "markdown",
   "metadata": {},
   "source": [
    "### Country Codes\n",
    "\n",
    "It is also a good idea to map the rows to country codes in case we wan't to use this with other datasets. Here's a function that uses data from [country-codes/master.csv](country-codes/master.csv) and [country-codes/others.csv](country-codes/others.csv).\n",
    "\n",
    "Take note that I have manually added items missing from [country-codes/master.csv](country-codes/master.csv) into [country-codes/others.csv](country-codes/others.csv)."
   ]
  },
  {
   "cell_type": "code",
   "execution_count": 8,
   "metadata": {
    "collapsed": true
   },
   "outputs": [],
   "source": [
    "import csv\n",
    "\n",
    "def fetch_country_codes():\n",
    "    with open('country-codes/master.csv', 'r') as f:\n",
    "        country_codes_master_reader = csv.DictReader(f)\n",
    "        country_codes = {\n",
    "            row['Country Name']: row[\"Country Code\"] for row in country_codes_master_reader\n",
    "        }\n",
    "\n",
    "    with open('country-codes/others.csv', 'r') as f:\n",
    "        country_codes_others = csv.DictReader(f)\n",
    "        for row in country_codes_others:\n",
    "            country_codes[row['Country Name']] = row[\"Country Code\"]\n",
    "            \n",
    "    return country_codes\n",
    "            \n",
    "country_codes = fetch_country_codes()"
   ]
  },
  {
   "cell_type": "markdown",
   "metadata": {},
   "source": [
    "Now we can assign country codes to each row..."
   ]
  },
  {
   "cell_type": "code",
   "execution_count": 9,
   "metadata": {
    "collapsed": true
   },
   "outputs": [],
   "source": [
    "for idx, row in enumerate(rows_dict):\n",
    "    rows_dict[idx]['country_code'] = country_codes[row['name']]"
   ]
  },
  {
   "cell_type": "code",
   "execution_count": 10,
   "metadata": {},
   "outputs": [
    {
     "data": {
      "text/plain": [
       "{'country_code': 'AF',\n",
       " 'frequency': '50 Hz',\n",
       " 'name': 'Afghanistan',\n",
       " 'plug_type': 'Type C',\n",
       " 'voltage': '220 V'}"
      ]
     },
     "execution_count": 10,
     "metadata": {},
     "output_type": "execute_result"
    }
   ],
   "source": [
    "rows_dict[0]"
   ]
  },
  {
   "cell_type": "markdown",
   "metadata": {},
   "source": [
    "### Load data into Pandas DataFrame\n",
    "\n",
    "This will allow us to study our data a bit."
   ]
  },
  {
   "cell_type": "code",
   "execution_count": 11,
   "metadata": {},
   "outputs": [
    {
     "data": {
      "text/html": [
       "<div>\n",
       "<style>\n",
       "    .dataframe thead tr:only-child th {\n",
       "        text-align: right;\n",
       "    }\n",
       "\n",
       "    .dataframe thead th {\n",
       "        text-align: left;\n",
       "    }\n",
       "\n",
       "    .dataframe tbody tr th {\n",
       "        vertical-align: top;\n",
       "    }\n",
       "</style>\n",
       "<table border=\"1\" class=\"dataframe\">\n",
       "  <thead>\n",
       "    <tr style=\"text-align: right;\">\n",
       "      <th></th>\n",
       "      <th>country_code</th>\n",
       "      <th>frequency</th>\n",
       "      <th>name</th>\n",
       "      <th>plug_type</th>\n",
       "      <th>voltage</th>\n",
       "    </tr>\n",
       "  </thead>\n",
       "  <tbody>\n",
       "    <tr>\n",
       "      <th>0</th>\n",
       "      <td>AF</td>\n",
       "      <td>50 Hz</td>\n",
       "      <td>Afghanistan</td>\n",
       "      <td>Type C</td>\n",
       "      <td>220 V</td>\n",
       "    </tr>\n",
       "    <tr>\n",
       "      <th>1</th>\n",
       "      <td>AF</td>\n",
       "      <td>50 Hz</td>\n",
       "      <td>Afghanistan</td>\n",
       "      <td>Type F</td>\n",
       "      <td>220 V</td>\n",
       "    </tr>\n",
       "    <tr>\n",
       "      <th>2</th>\n",
       "      <td>AL</td>\n",
       "      <td>50 Hz</td>\n",
       "      <td>Albania</td>\n",
       "      <td>Type C</td>\n",
       "      <td>230 V</td>\n",
       "    </tr>\n",
       "    <tr>\n",
       "      <th>3</th>\n",
       "      <td>AL</td>\n",
       "      <td>50 Hz</td>\n",
       "      <td>Albania</td>\n",
       "      <td>Type F</td>\n",
       "      <td>230 V</td>\n",
       "    </tr>\n",
       "    <tr>\n",
       "      <th>4</th>\n",
       "      <td>DZ</td>\n",
       "      <td>50 Hz</td>\n",
       "      <td>Algeria</td>\n",
       "      <td>Type C</td>\n",
       "      <td>230 V</td>\n",
       "    </tr>\n",
       "  </tbody>\n",
       "</table>\n",
       "</div>"
      ],
      "text/plain": [
       "  country_code frequency         name plug_type voltage\n",
       "0           AF     50 Hz  Afghanistan    Type C   220 V\n",
       "1           AF     50 Hz  Afghanistan    Type F   220 V\n",
       "2           AL     50 Hz      Albania    Type C   230 V\n",
       "3           AL     50 Hz      Albania    Type F   230 V\n",
       "4           DZ     50 Hz      Algeria    Type C   230 V"
      ]
     },
     "execution_count": 11,
     "metadata": {},
     "output_type": "execute_result"
    }
   ],
   "source": [
    "import pandas\n",
    "\n",
    "country_plugs_df = pandas.DataFrame.from_dict(rows_dict)\n",
    "country_plugs_df.head()"
   ]
  },
  {
   "cell_type": "markdown",
   "metadata": {},
   "source": [
    "The `count` statistic shown by `describe()` assures us that all rows have no null values. In this case, all columns have counts of 504:"
   ]
  },
  {
   "cell_type": "code",
   "execution_count": 12,
   "metadata": {},
   "outputs": [
    {
     "data": {
      "text/html": [
       "<div>\n",
       "<style>\n",
       "    .dataframe thead tr:only-child th {\n",
       "        text-align: right;\n",
       "    }\n",
       "\n",
       "    .dataframe thead th {\n",
       "        text-align: left;\n",
       "    }\n",
       "\n",
       "    .dataframe tbody tr th {\n",
       "        vertical-align: top;\n",
       "    }\n",
       "</style>\n",
       "<table border=\"1\" class=\"dataframe\">\n",
       "  <thead>\n",
       "    <tr style=\"text-align: right;\">\n",
       "      <th></th>\n",
       "      <th>country_code</th>\n",
       "      <th>frequency</th>\n",
       "      <th>name</th>\n",
       "      <th>plug_type</th>\n",
       "      <th>voltage</th>\n",
       "    </tr>\n",
       "  </thead>\n",
       "  <tbody>\n",
       "    <tr>\n",
       "      <th>count</th>\n",
       "      <td>504</td>\n",
       "      <td>504</td>\n",
       "      <td>504</td>\n",
       "      <td>504</td>\n",
       "      <td>504</td>\n",
       "    </tr>\n",
       "    <tr>\n",
       "      <th>unique</th>\n",
       "      <td>218</td>\n",
       "      <td>6</td>\n",
       "      <td>218</td>\n",
       "      <td>14</td>\n",
       "      <td>21</td>\n",
       "    </tr>\n",
       "    <tr>\n",
       "      <th>top</th>\n",
       "      <td>MV</td>\n",
       "      <td>50 Hz</td>\n",
       "      <td>Maldives</td>\n",
       "      <td>Type C</td>\n",
       "      <td>230 V</td>\n",
       "    </tr>\n",
       "    <tr>\n",
       "      <th>freq</th>\n",
       "      <td>7</td>\n",
       "      <td>238</td>\n",
       "      <td>7</td>\n",
       "      <td>138</td>\n",
       "      <td>191</td>\n",
       "    </tr>\n",
       "  </tbody>\n",
       "</table>\n",
       "</div>"
      ],
      "text/plain": [
       "       country_code frequency      name plug_type voltage\n",
       "count           504       504       504       504     504\n",
       "unique          218         6       218        14      21\n",
       "top              MV     50 Hz  Maldives    Type C   230 V\n",
       "freq              7       238         7       138     191"
      ]
     },
     "execution_count": 12,
     "metadata": {},
     "output_type": "execute_result"
    }
   ],
   "source": [
    "country_plugs_df.describe()"
   ]
  },
  {
   "cell_type": "markdown",
   "metadata": {},
   "source": [
    "Just for fun, let's check see socket type is the most widely used:"
   ]
  },
  {
   "cell_type": "code",
   "execution_count": 13,
   "metadata": {},
   "outputs": [
    {
     "data": {
      "text/html": [
       "<div>\n",
       "<style>\n",
       "    .dataframe thead tr:only-child th {\n",
       "        text-align: right;\n",
       "    }\n",
       "\n",
       "    .dataframe thead th {\n",
       "        text-align: left;\n",
       "    }\n",
       "\n",
       "    .dataframe tbody tr th {\n",
       "        vertical-align: top;\n",
       "    }\n",
       "</style>\n",
       "<table border=\"1\" class=\"dataframe\">\n",
       "  <thead>\n",
       "    <tr style=\"text-align: right;\">\n",
       "      <th></th>\n",
       "      <th>plug_type</th>\n",
       "      <th>count</th>\n",
       "    </tr>\n",
       "  </thead>\n",
       "  <tbody>\n",
       "    <tr>\n",
       "      <th>2</th>\n",
       "      <td>Type C</td>\n",
       "      <td>138</td>\n",
       "    </tr>\n",
       "    <tr>\n",
       "      <th>5</th>\n",
       "      <td>Type F</td>\n",
       "      <td>74</td>\n",
       "    </tr>\n",
       "    <tr>\n",
       "      <th>0</th>\n",
       "      <td>Type A</td>\n",
       "      <td>55</td>\n",
       "    </tr>\n",
       "    <tr>\n",
       "      <th>6</th>\n",
       "      <td>Type G</td>\n",
       "      <td>51</td>\n",
       "    </tr>\n",
       "    <tr>\n",
       "      <th>1</th>\n",
       "      <td>Type B</td>\n",
       "      <td>47</td>\n",
       "    </tr>\n",
       "    <tr>\n",
       "      <th>3</th>\n",
       "      <td>Type D</td>\n",
       "      <td>39</td>\n",
       "    </tr>\n",
       "    <tr>\n",
       "      <th>4</th>\n",
       "      <td>Type E</td>\n",
       "      <td>38</td>\n",
       "    </tr>\n",
       "    <tr>\n",
       "      <th>8</th>\n",
       "      <td>Type I</td>\n",
       "      <td>20</td>\n",
       "    </tr>\n",
       "    <tr>\n",
       "      <th>12</th>\n",
       "      <td>Type M</td>\n",
       "      <td>15</td>\n",
       "    </tr>\n",
       "    <tr>\n",
       "      <th>10</th>\n",
       "      <td>Type K</td>\n",
       "      <td>9</td>\n",
       "    </tr>\n",
       "    <tr>\n",
       "      <th>11</th>\n",
       "      <td>Type L</td>\n",
       "      <td>9</td>\n",
       "    </tr>\n",
       "    <tr>\n",
       "      <th>9</th>\n",
       "      <td>Type J</td>\n",
       "      <td>6</td>\n",
       "    </tr>\n",
       "    <tr>\n",
       "      <th>13</th>\n",
       "      <td>Type N</td>\n",
       "      <td>2</td>\n",
       "    </tr>\n",
       "    <tr>\n",
       "      <th>7</th>\n",
       "      <td>Type H</td>\n",
       "      <td>1</td>\n",
       "    </tr>\n",
       "  </tbody>\n",
       "</table>\n",
       "</div>"
      ],
      "text/plain": [
       "   plug_type  count\n",
       "2     Type C    138\n",
       "5     Type F     74\n",
       "0     Type A     55\n",
       "6     Type G     51\n",
       "1     Type B     47\n",
       "3     Type D     39\n",
       "4     Type E     38\n",
       "8     Type I     20\n",
       "12    Type M     15\n",
       "10    Type K      9\n",
       "11    Type L      9\n",
       "9     Type J      6\n",
       "13    Type N      2\n",
       "7     Type H      1"
      ]
     },
     "execution_count": 13,
     "metadata": {},
     "output_type": "execute_result"
    }
   ],
   "source": [
    "country_plugs_df.groupby(\"plug_type\")[\"plug_type\"].count().reset_index(name=\"count\").sort_values(['count'], ascending=False)"
   ]
  },
  {
   "cell_type": "markdown",
   "metadata": {},
   "source": [
    "I also noticed that Frequency and Voltage sometimes have multiple values per row. However, I have decided to leave it as is, since we are more concerned about the plug types. \n",
    "\n",
    "I'll probably build a different dataset for these in the future."
   ]
  },
  {
   "cell_type": "code",
   "execution_count": 14,
   "metadata": {},
   "outputs": [
    {
     "data": {
      "text/html": [
       "<div>\n",
       "<style>\n",
       "    .dataframe thead tr:only-child th {\n",
       "        text-align: right;\n",
       "    }\n",
       "\n",
       "    .dataframe thead th {\n",
       "        text-align: left;\n",
       "    }\n",
       "\n",
       "    .dataframe tbody tr th {\n",
       "        vertical-align: top;\n",
       "    }\n",
       "</style>\n",
       "<table border=\"1\" class=\"dataframe\">\n",
       "  <thead>\n",
       "    <tr style=\"text-align: right;\">\n",
       "      <th></th>\n",
       "      <th>frequency</th>\n",
       "      <th>count</th>\n",
       "    </tr>\n",
       "  </thead>\n",
       "  <tbody>\n",
       "    <tr>\n",
       "      <th>3</th>\n",
       "      <td>50 Hz</td>\n",
       "      <td>238</td>\n",
       "    </tr>\n",
       "    <tr>\n",
       "      <th>1</th>\n",
       "      <td>50 Hz</td>\n",
       "      <td>164</td>\n",
       "    </tr>\n",
       "    <tr>\n",
       "      <th>4</th>\n",
       "      <td>60 Hz</td>\n",
       "      <td>50</td>\n",
       "    </tr>\n",
       "    <tr>\n",
       "      <th>5</th>\n",
       "      <td>60 Hz</td>\n",
       "      <td>41</td>\n",
       "    </tr>\n",
       "    <tr>\n",
       "      <th>2</th>\n",
       "      <td>50 Hz, 60 Hz</td>\n",
       "      <td>10</td>\n",
       "    </tr>\n",
       "    <tr>\n",
       "      <th>0</th>\n",
       "      <td>60 Hz</td>\n",
       "      <td>1</td>\n",
       "    </tr>\n",
       "  </tbody>\n",
       "</table>\n",
       "</div>"
      ],
      "text/plain": [
       "      frequency  count\n",
       "3         50 Hz    238\n",
       "1         50 Hz    164\n",
       "4         60 Hz     50\n",
       "5         60 Hz     41\n",
       "2  50 Hz, 60 Hz     10\n",
       "0         60 Hz      1"
      ]
     },
     "execution_count": 14,
     "metadata": {},
     "output_type": "execute_result"
    }
   ],
   "source": [
    "country_plugs_df.groupby(\"frequency\")[\"frequency\"].count().reset_index(name=\"count\").sort_values(['count'], ascending=False)"
   ]
  },
  {
   "cell_type": "code",
   "execution_count": 15,
   "metadata": {},
   "outputs": [
    {
     "data": {
      "text/html": [
       "<div>\n",
       "<style>\n",
       "    .dataframe thead tr:only-child th {\n",
       "        text-align: right;\n",
       "    }\n",
       "\n",
       "    .dataframe thead th {\n",
       "        text-align: left;\n",
       "    }\n",
       "\n",
       "    .dataframe tbody tr th {\n",
       "        vertical-align: top;\n",
       "    }\n",
       "</style>\n",
       "<table border=\"1\" class=\"dataframe\">\n",
       "  <thead>\n",
       "    <tr style=\"text-align: right;\">\n",
       "      <th></th>\n",
       "      <th>voltage</th>\n",
       "      <th>count</th>\n",
       "    </tr>\n",
       "  </thead>\n",
       "  <tbody>\n",
       "    <tr>\n",
       "      <th>17</th>\n",
       "      <td>230 V</td>\n",
       "      <td>191</td>\n",
       "    </tr>\n",
       "    <tr>\n",
       "      <th>13</th>\n",
       "      <td>220 V</td>\n",
       "      <td>153</td>\n",
       "    </tr>\n",
       "    <tr>\n",
       "      <th>7</th>\n",
       "      <td>120 V</td>\n",
       "      <td>30</td>\n",
       "    </tr>\n",
       "    <tr>\n",
       "      <th>19</th>\n",
       "      <td>240 V</td>\n",
       "      <td>27</td>\n",
       "    </tr>\n",
       "    <tr>\n",
       "      <th>18</th>\n",
       "      <td>230 V</td>\n",
       "      <td>22</td>\n",
       "    </tr>\n",
       "    <tr>\n",
       "      <th>2</th>\n",
       "      <td>110 V</td>\n",
       "      <td>21</td>\n",
       "    </tr>\n",
       "    <tr>\n",
       "      <th>11</th>\n",
       "      <td>127 V, 220 V</td>\n",
       "      <td>13</td>\n",
       "    </tr>\n",
       "    <tr>\n",
       "      <th>10</th>\n",
       "      <td>127 V</td>\n",
       "      <td>7</td>\n",
       "    </tr>\n",
       "    <tr>\n",
       "      <th>8</th>\n",
       "      <td>120 V, 220 V</td>\n",
       "      <td>7</td>\n",
       "    </tr>\n",
       "    <tr>\n",
       "      <th>5</th>\n",
       "      <td>115 V</td>\n",
       "      <td>6</td>\n",
       "    </tr>\n",
       "    <tr>\n",
       "      <th>12</th>\n",
       "      <td>127 V, 230 V</td>\n",
       "      <td>4</td>\n",
       "    </tr>\n",
       "    <tr>\n",
       "      <th>20</th>\n",
       "      <td>240 V</td>\n",
       "      <td>4</td>\n",
       "    </tr>\n",
       "    <tr>\n",
       "      <th>15</th>\n",
       "      <td>220 V, 110 V</td>\n",
       "      <td>3</td>\n",
       "    </tr>\n",
       "    <tr>\n",
       "      <th>4</th>\n",
       "      <td>110 V, 220 V</td>\n",
       "      <td>3</td>\n",
       "    </tr>\n",
       "    <tr>\n",
       "      <th>1</th>\n",
       "      <td>100 V</td>\n",
       "      <td>2</td>\n",
       "    </tr>\n",
       "    <tr>\n",
       "      <th>9</th>\n",
       "      <td>120 V</td>\n",
       "      <td>2</td>\n",
       "    </tr>\n",
       "    <tr>\n",
       "      <th>14</th>\n",
       "      <td>220 V 110 V</td>\n",
       "      <td>2</td>\n",
       "    </tr>\n",
       "    <tr>\n",
       "      <th>16</th>\n",
       "      <td>220 V</td>\n",
       "      <td>2</td>\n",
       "    </tr>\n",
       "    <tr>\n",
       "      <th>6</th>\n",
       "      <td>115 V, 230 V</td>\n",
       "      <td>2</td>\n",
       "    </tr>\n",
       "    <tr>\n",
       "      <th>3</th>\n",
       "      <td>110 V</td>\n",
       "      <td>2</td>\n",
       "    </tr>\n",
       "    <tr>\n",
       "      <th>0</th>\n",
       "      <td>220 V, 230 V</td>\n",
       "      <td>1</td>\n",
       "    </tr>\n",
       "  </tbody>\n",
       "</table>\n",
       "</div>"
      ],
      "text/plain": [
       "          voltage  count\n",
       "17          230 V    191\n",
       "13          220 V    153\n",
       "7           120 V     30\n",
       "19          240 V     27\n",
       "18         230 V      22\n",
       "2           110 V     21\n",
       "11   127 V, 220 V     13\n",
       "10          127 V      7\n",
       "8    120 V, 220 V      7\n",
       "5           115 V      6\n",
       "12   127 V, 230 V      4\n",
       "20         240 V       4\n",
       "15   220 V, 110 V      3\n",
       "4    110 V, 220 V      3\n",
       "1           100 V      2\n",
       "9           120 V      2\n",
       "14    220 V 110 V      2\n",
       "16          220 V      2\n",
       "6    115 V, 230 V      2\n",
       "3          110 V       2\n",
       "0    220 V, 230 V      1"
      ]
     },
     "execution_count": 15,
     "metadata": {},
     "output_type": "execute_result"
    }
   ],
   "source": [
    "country_plugs_df.groupby(\"voltage\")[\"voltage\"].count().reset_index(name=\"count\").sort_values(['count'], ascending=False)"
   ]
  },
  {
   "cell_type": "markdown",
   "metadata": {},
   "source": [
    "### Save to CSV\n",
    "\n",
    "Let's use Pandas' to_csv function to save the entire DataFrame in CSV format"
   ]
  },
  {
   "cell_type": "code",
   "execution_count": 16,
   "metadata": {
    "collapsed": true
   },
   "outputs": [],
   "source": [
    "country_plugs_df.to_csv(\"world-plugs.csv\")"
   ]
  }
 ],
 "metadata": {
  "kernelspec": {
   "display_name": "Python 3",
   "language": "python",
   "name": "python3"
  },
  "language_info": {
   "codemirror_mode": {
    "name": "ipython",
    "version": 3
   },
   "file_extension": ".py",
   "mimetype": "text/x-python",
   "name": "python",
   "nbconvert_exporter": "python",
   "pygments_lexer": "ipython3",
   "version": "3.6.2"
  }
 },
 "nbformat": 4,
 "nbformat_minor": 2
}
